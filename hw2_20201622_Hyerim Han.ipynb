{
  "nbformat": 4,
  "nbformat_minor": 0,
  "metadata": {
    "colab": {
      "name": "hw2_20201622_Hyerim Han.ipynb",
      "provenance": []
    },
    "kernelspec": {
      "name": "python3",
      "display_name": "Python 3"
    }
  },
  "cells": [
    {
      "cell_type": "code",
      "metadata": {
        "id": "mUx2hGdevLHK",
        "outputId": "4fbc4388-01fb-4e67-c8fb-c34c75ea4b21",
        "colab": {
          "base_uri": "https://localhost:8080/",
          "height": 53
        }
      },
      "source": [
        "#2.2\n",
        "width = 30\n",
        "height = 60\n",
        "print(width)\n",
        "print(height)"
      ],
      "execution_count": 1,
      "outputs": [
        {
          "output_type": "stream",
          "text": [
            "30\n",
            "60\n"
          ],
          "name": "stdout"
        }
      ]
    },
    {
      "cell_type": "code",
      "metadata": {
        "id": "ZEJi6sIevwBN",
        "outputId": "026209da-6872-4c2a-9b5d-0400d9bd6305",
        "colab": {
          "base_uri": "https://localhost:8080/",
          "height": 53
        }
      },
      "source": [
        "#2.5\n",
        "a = int(input('정사각형의 밑변을 입력하시오 : '))\n",
        "area = a * a\n",
        "print('정사각형의 면적 :',area)"
      ],
      "execution_count": 8,
      "outputs": [
        {
          "output_type": "stream",
          "text": [
            "정사각형의 밑변을 입력하시오 : 40\n",
            "정사각형의 면적 : 1600\n"
          ],
          "name": "stdout"
        }
      ]
    },
    {
      "cell_type": "code",
      "metadata": {
        "id": "1sDt6MChwwts",
        "outputId": "1676d6ad-2d5c-4dcf-ddf9-5ea04973d0b9",
        "colab": {
          "base_uri": "https://localhost:8080/",
          "height": 35
        }
      },
      "source": [
        "#2.6\n",
        "print('1에서 10까지의 합 :',1+2+3+4+5+6+7+8+9+10)"
      ],
      "execution_count": 9,
      "outputs": [
        {
          "output_type": "stream",
          "text": [
            "1에서 10까지의 합 : 55\n"
          ],
          "name": "stdout"
        }
      ]
    },
    {
      "cell_type": "code",
      "metadata": {
        "id": "x0n0Nd-MxgAX",
        "outputId": "3a5f72a4-7a17-4cb0-dbac-357fe62baac4",
        "colab": {
          "base_uri": "https://localhost:8080/",
          "height": 35
        }
      },
      "source": [
        "#2.7\n",
        "print('10! =',1*2*3*4*5*6*7*8*9*10)"
      ],
      "execution_count": 10,
      "outputs": [
        {
          "output_type": "stream",
          "text": [
            "10! = 3628800\n"
          ],
          "name": "stdout"
        }
      ]
    },
    {
      "cell_type": "code",
      "metadata": {
        "id": "x0KeBT-PyAi0",
        "outputId": "2d4f3d4e-e01f-4ea8-8654-96edbc12dbd7",
        "colab": {
          "base_uri": "https://localhost:8080/",
          "height": 125
        }
      },
      "source": [
        "#2.8\n",
        "n = 2\n",
        "a = 2\n",
        "print('a    n    a ** n')\n",
        "print(a,'  ',n,'  ',a ** n)\n",
        "a = 3\n",
        "print(a,'  ',n,'  ',a ** n)\n",
        "a = 4\n",
        "print(a,'  ',n,'  ',a ** n)\n",
        "a = 5\n",
        "print(a,'  ',n,'  ',a ** n)\n",
        "a = 6\n",
        "print(a,'  ',n,'  ',a ** n)"
      ],
      "execution_count": 19,
      "outputs": [
        {
          "output_type": "stream",
          "text": [
            "a    n    a ** n\n",
            "2    2    4\n",
            "3    2    9\n",
            "4    2    16\n",
            "5    2    25\n",
            "6    2    36\n"
          ],
          "name": "stdout"
        }
      ]
    },
    {
      "cell_type": "code",
      "metadata": {
        "id": "Y8x0-XQm06Sd",
        "outputId": "0f7b8d17-022e-4aed-a1e1-cdd89103c6bf",
        "colab": {
          "base_uri": "https://localhost:8080/",
          "height": 143
        }
      },
      "source": [
        "#2.9\n",
        "print('섭씨     화씨')\n",
        "celsius = 0\n",
        "fahrenheit = (9/5) * celsius + 32\n",
        "print(celsius,'      ',fahrenheit)\n",
        "celsius = 10\n",
        "fahrenheit = (9/5) * celsius + 32\n",
        "print(celsius,'     ',fahrenheit)\n",
        "celsius = 20\n",
        "fahrenheit = (9/5) * celsius + 32\n",
        "print(celsius,'     ',fahrenheit)\n",
        "celsius = 30\n",
        "fahrenheit = (9/5) * celsius + 32\n",
        "print(celsius,'     ',fahrenheit)\n",
        "celsius = 40\n",
        "fahrenheit = (9/5) * celsius + 32\n",
        "print(celsius,'     ',fahrenheit)\n",
        "celsius = 50\n",
        "fahrenheit = (9/5) * celsius + 32\n",
        "print(celsius,'     ',fahrenheit)\n"
      ],
      "execution_count": 28,
      "outputs": [
        {
          "output_type": "stream",
          "text": [
            "섭씨     화씨\n",
            "0        32.0\n",
            "10       50.0\n",
            "20       68.0\n",
            "30       86.0\n",
            "40       104.0\n",
            "50       122.0\n"
          ],
          "name": "stdout"
        }
      ]
    },
    {
      "cell_type": "code",
      "metadata": {
        "id": "IeUWayFO3BJ2",
        "outputId": "c9b0d0ea-2294-4d1d-df1d-ff74d52cae30",
        "colab": {
          "base_uri": "https://localhost:8080/",
          "height": 53
        }
      },
      "source": [
        "#2.10\n",
        "c = int(input('섭씨온도를 입력하세요 : '))\n",
        "f = (9/5) * c + 32\n",
        "print('섭씨',c,'도는 화씨',f,'도 입니다.')"
      ],
      "execution_count": 31,
      "outputs": [
        {
          "output_type": "stream",
          "text": [
            "섭씨온도를 입력하세요 : 30\n",
            "섭씨 30 도는 화씨 86.0 도 입니다.\n"
          ],
          "name": "stdout"
        }
      ]
    },
    {
      "cell_type": "code",
      "metadata": {
        "id": "Tok9HsZ04ZH3",
        "outputId": "56d59e43-f5d3-4c51-b8ab-903f769f03f5",
        "colab": {
          "base_uri": "https://localhost:8080/",
          "height": 53
        }
      },
      "source": [
        "#2.11\n",
        "f = int(input('화씨온도를 입력하세요 : '))\n",
        "f = (9/5) * c + 32\n",
        "print('화씨',f,'도는 섭씨',c,'도 입니다.')"
      ],
      "execution_count": 32,
      "outputs": [
        {
          "output_type": "stream",
          "text": [
            "화씨온도를 입력하세요 : 86\n",
            "화씨 86.0 도는 섭씨 30 도 입니다.\n"
          ],
          "name": "stdout"
        }
      ]
    },
    {
      "cell_type": "code",
      "metadata": {
        "id": "RgmDQrGW5NLs",
        "outputId": "e577b454-f64f-4ea0-d1ca-912fe7b5c47f",
        "colab": {
          "base_uri": "https://localhost:8080/",
          "height": 35
        }
      },
      "source": [
        "#2.12\n",
        "radius = 11\n",
        "pi = 3.141592\n",
        "C = 2 * pi * radius\n",
        "A = pi * radius * radius\n",
        "print('원의 반지름 = ',radius,', 원의 둘레 = ',C,', 원의 면적 = ',A,sep ='')"
      ],
      "execution_count": 54,
      "outputs": [
        {
          "output_type": "stream",
          "text": [
            "원의 반지름 = 11, 원의 둘레 = 69.115024, 원의 면적 = 380.13263200000006\n"
          ],
          "name": "stdout"
        }
      ]
    },
    {
      "cell_type": "code",
      "metadata": {
        "id": "h4RUfVgP6YNK",
        "outputId": "7771e4b1-47e3-4070-e87a-8d9a9521eb54",
        "colab": {
          "base_uri": "https://localhost:8080/",
          "height": 53
        }
      },
      "source": [
        "#2.13\n",
        "r = int(input('원의 반지름을 입력하세요 : '))\n",
        "pi = 3.141592\n",
        "C = 2 * pi * radius\n",
        "A = pi * radius * radius\n",
        "print('원의 둘레 = ',C,', 원의 면적 = ',A,sep ='')"
      ],
      "execution_count": 55,
      "outputs": [
        {
          "output_type": "stream",
          "text": [
            "원의 반지름을 입력하세요 : 11\n",
            "원의 둘레 = 69.115024, 원의 면적 = 380.13263200000006\n"
          ],
          "name": "stdout"
        }
      ]
    },
    {
      "cell_type": "code",
      "metadata": {
        "id": "0rrZVFeG-fAq",
        "outputId": "ea951cc3-9309-44aa-b94c-e4fe27363bfa",
        "colab": {
          "base_uri": "https://localhost:8080/",
          "height": 179
        }
      },
      "source": [
        "#2.14\n",
        "print('2의 제곱근 =',2**0.5)\n",
        "print('3의 제곱근 =',3**0.5)\n",
        "print('4의 제곱근 =',4**0.5)\n",
        "print('5의 제곱근 =',5**0.5)\n",
        "print('6의 제곱근 =',6**0.5)\n",
        "print('7의 제곱근 =',7**0.5)\n",
        "print('8의 제곱근 =',8**0.5)\n",
        "print('9의 제곱근 =',9**0.5)\n",
        "print('10의 제곱근 =',10**0.5)"
      ],
      "execution_count": 57,
      "outputs": [
        {
          "output_type": "stream",
          "text": [
            "2의 제곱근 = 1.4142135623730951\n",
            "3의 제곱근 = 1.7320508075688772\n",
            "4의 제곱근 = 2.0\n",
            "5의 제곱근 = 2.23606797749979\n",
            "6의 제곱근 = 2.449489742783178\n",
            "7의 제곱근 = 2.6457513110645907\n",
            "8의 제곱근 = 2.8284271247461903\n",
            "9의 제곱근 = 3.0\n",
            "10의 제곱근 = 3.1622776601683795\n"
          ],
          "name": "stdout"
        }
      ]
    },
    {
      "cell_type": "code",
      "metadata": {
        "id": "u8QLJfQZAvTy",
        "outputId": "d5634e16-25b6-4518-baad-cbbad43a1208",
        "colab": {
          "base_uri": "https://localhost:8080/",
          "height": 71
        }
      },
      "source": [
        "#2.15\n",
        "a = int(input('밑변을 입력하세요 : '))\n",
        "b = int(input('높이을 입력하세요 : '))\n",
        "c = (a**2 + b**2) ** 0.5\n",
        "print('빗변 :',c)"
      ],
      "execution_count": 64,
      "outputs": [
        {
          "output_type": "stream",
          "text": [
            "밑변을 입력하세요 : 5\n",
            "높이을 입력하세요 : 12\n",
            "빗변 : 13.0\n"
          ],
          "name": "stdout"
        }
      ]
    },
    {
      "cell_type": "code",
      "metadata": {
        "id": "UifYP6IWCDU2",
        "outputId": "c99adaa5-8337-4013-addc-55228ba30dc3",
        "colab": {
          "base_uri": "https://localhost:8080/",
          "height": 53
        }
      },
      "source": [
        "#2.16 (1)\n",
        "a = 1+2j\n",
        "print('회전하기 전 :',a)\n",
        "print('90도 회전한 후 :',a*(0 + 1j))"
      ],
      "execution_count": 75,
      "outputs": [
        {
          "output_type": "stream",
          "text": [
            "회전하기 전 : (1+2j)\n",
            "90도 회전한 후 : (-2+1j)\n"
          ],
          "name": "stdout"
        }
      ]
    },
    {
      "cell_type": "code",
      "metadata": {
        "id": "kSf1RK0mEz-A",
        "outputId": "1b76edf0-1d25-45c2-ac73-077ae1b8931c",
        "colab": {
          "base_uri": "https://localhost:8080/",
          "height": 53
        }
      },
      "source": [
        "#2.16 (2)\n",
        "a = 1+2j\n",
        "print('회전하기 전 :',a)\n",
        "print('30도 회전한 후 :',a*((3**0.5)/2 + 0.5j))"
      ],
      "execution_count": 80,
      "outputs": [
        {
          "output_type": "stream",
          "text": [
            "회전하기 전 : (1+2j)\n",
            "30도 회전한 후 : (-0.1339745962155614+2.232050807568877j)\n"
          ],
          "name": "stdout"
        }
      ]
    },
    {
      "cell_type": "code",
      "metadata": {
        "id": "bN5VVdfoGabO",
        "outputId": "52368761-f419-4f56-ae8c-fc27ede1a9d5",
        "colab": {
          "base_uri": "https://localhost:8080/",
          "height": 35
        }
      },
      "source": [
        "#2.17\n",
        "print(2 << 0,2 << 1,2 << 2,2 << 3,2 << 4,2 << 5,2 << 6,2 << 7,2 << 8,2 << 9,)"
      ],
      "execution_count": 81,
      "outputs": [
        {
          "output_type": "stream",
          "text": [
            "2 4 8 16 32 64 128 256 512 1024\n"
          ],
          "name": "stdout"
        }
      ]
    },
    {
      "cell_type": "code",
      "metadata": {
        "id": "MxpmhUKYJAua",
        "outputId": "8586555a-5170-4d77-8611-c5d168a32b8f",
        "colab": {
          "base_uri": "https://localhost:8080/",
          "height": 53
        }
      },
      "source": [
        "#2.18\n",
        "n = int(input('정수를 입력하세요: '))\n",
        "print('이 수가 짝수인가요?', n % 2 == 0)"
      ],
      "execution_count": 82,
      "outputs": [
        {
          "output_type": "stream",
          "text": [
            "정수를 입력하세요: 20\n",
            "이 수가 짝수인가요? True\n"
          ],
          "name": "stdout"
        }
      ]
    },
    {
      "cell_type": "code",
      "metadata": {
        "id": "26oQ53ECKg-Q",
        "outputId": "6d24f319-5009-4f38-8397-f967c5d82ded",
        "colab": {
          "base_uri": "https://localhost:8080/",
          "height": 53
        }
      },
      "source": [
        "n = int(input('정수를 입력하세요: '))\n",
        "print('이 수가 짝수인가요?', n % 2 == 0)"
      ],
      "execution_count": 83,
      "outputs": [
        {
          "output_type": "stream",
          "text": [
            "정수를 입력하세요: 21\n",
            "이 수가 짝수인가요? False\n"
          ],
          "name": "stdout"
        }
      ]
    },
    {
      "cell_type": "code",
      "metadata": {
        "id": "3D1G2ddGKvOa",
        "outputId": "48fd99a0-dc71-4a2d-a3e0-332061c81880",
        "colab": {
          "base_uri": "https://localhost:8080/",
          "height": 89
        }
      },
      "source": [
        "#2.19\n",
        "n = int(input('정수를 입력하세요 ; '))\n",
        "print('입력된 정수는 0에서 100의 범위 안에 있는 짝수인가요?', (0 <= n <= 100) and (n % 2 == 0))\n",
        "n = int(input('정수를 입력하세요 ; '))\n",
        "print('입력된 정수는 0에서 100의 범위 안에 있는 짝수인가요?', (0 <= n <= 100) and (n % 2 == 0))"
      ],
      "execution_count": 89,
      "outputs": [
        {
          "output_type": "stream",
          "text": [
            "정수를 입력하세요 ; 120\n",
            "입력된 정수는 0에서 100의 범위 안에 있는 짝수인가요? False\n",
            "정수를 입력하세요 ; 88\n",
            "입력된 정수는 0에서 100의 범위 안에 있는 짝수인가요? True\n"
          ],
          "name": "stdout"
        }
      ]
    },
    {
      "cell_type": "code",
      "metadata": {
        "id": "R7wHVAMdL8Em",
        "outputId": "b9ea81ce-e721-4876-a92d-49ff293b5fec",
        "colab": {
          "base_uri": "https://localhost:8080/",
          "height": 71
        }
      },
      "source": [
        "#2.20\n",
        "print(bin(5),'&',bin(6),'=',bin(5 & 6))\n",
        "print(bin(5),'|',bin(6),'=',bin(5 | 6))\n",
        "print(bin(5),'^',bin(6),'=',bin(5 ^ 6))"
      ],
      "execution_count": 96,
      "outputs": [
        {
          "output_type": "stream",
          "text": [
            "0b101 & 0b110 = 0b100\n",
            "0b101 | 0b110 = 0b111\n",
            "0b101 ^ 0b110 = 0b11\n"
          ],
          "name": "stdout"
        }
      ]
    },
    {
      "cell_type": "code",
      "metadata": {
        "id": "khV-nuLSRGXg",
        "outputId": "08016c50-4e2a-4176-c699-b53f4e6e54f9",
        "colab": {
          "base_uri": "https://localhost:8080/",
          "height": 71
        }
      },
      "source": [
        "#2.21\n",
        "n = int(input('정수를 입력하시오 : '))\n",
        "print(n,'의 2진수 값:',bin(n))\n",
        "print(n,'의 2진수 값에 대한 비트단위 부정값 :',bin(~n))"
      ],
      "execution_count": 97,
      "outputs": [
        {
          "output_type": "stream",
          "text": [
            "정수를 입력하시오 : 9\n",
            "9 의 2진수 값: 0b1001\n",
            "9 의 2진수 값에 대한 비트단위 부정값 : -0b1010\n"
          ],
          "name": "stdout"
        }
      ]
    },
    {
      "cell_type": "code",
      "metadata": {
        "id": "oVMYMGpBTOEL",
        "outputId": "b8f68f93-f779-4de2-82b3-19a7f9e4857b",
        "colab": {
          "base_uri": "https://localhost:8080/",
          "height": 89
        }
      },
      "source": [
        "#2.22\n",
        "a = int(input('정수 a를 입력하시오 : '))\n",
        "b = int(input('정수 b를 입력하시오 : '))\n",
        "print('a / b의 몫 :',a // b)\n",
        "print('a / b의 나머지 :',a % b)"
      ],
      "execution_count": 98,
      "outputs": [
        {
          "output_type": "stream",
          "text": [
            "정수 a를 입력하시오 : 202\n",
            "정수 b를 입력하시오 : 50\n",
            "a / b의 몫 : 4\n",
            "a / b의 나머지 : 2\n"
          ],
          "name": "stdout"
        }
      ]
    },
    {
      "cell_type": "code",
      "metadata": {
        "id": "XjDIPllzT9B2",
        "outputId": "218bcfa9-9b96-4783-d2da-1bfc44ea5d49",
        "colab": {
          "base_uri": "https://localhost:8080/",
          "height": 89
        }
      },
      "source": [
        "#2.23\n",
        "n = int(input('세 자리 정수를 입력하시오 : '))\n",
        "print('백의 자리 :', n // 100)\n",
        "print('십의 자리 :', (n % 100) // 10)\n",
        "print('일의 자리 :', n % 10)"
      ],
      "execution_count": 101,
      "outputs": [
        {
          "output_type": "stream",
          "text": [
            "세 자리 정수를 입력하시오 : 349\n",
            "백의 자리 : 3\n",
            "십의 자리 : 4\n",
            "일의 자리 : 9\n"
          ],
          "name": "stdout"
        }
      ]
    },
    {
      "cell_type": "code",
      "metadata": {
        "id": "fqhZv3OxVp2x",
        "outputId": "edb286cb-b903-43bf-e8a5-2c3e3f164b8b",
        "colab": {
          "base_uri": "https://localhost:8080/",
          "height": 89
        }
      },
      "source": [
        "#2.24\n",
        "n = int(input('세 자리 정수를 입력하시오 : '))\n",
        "print(n % 10)\n",
        "print((n % 100) // 10)\n",
        "print(n // 100)"
      ],
      "execution_count": 103,
      "outputs": [
        {
          "output_type": "stream",
          "text": [
            "세 자리 정수를 입력하시오 : 349\n",
            "9\n",
            "4\n",
            "3\n"
          ],
          "name": "stdout"
        }
      ]
    },
    {
      "cell_type": "code",
      "metadata": {
        "id": "AodTp8PTXpLU"
      },
      "source": [
        ""
      ],
      "execution_count": null,
      "outputs": []
    }
  ]
}
{
  "nbformat": 4,
  "nbformat_minor": 0,
  "metadata": {
    "colab": {
      "name": "hw1_20201622_Hyerim Han.ipynb",
      "provenance": []
    },
    "kernelspec": {
      "name": "python3",
      "display_name": "Python 3"
    }
  },
  "cells": [
    {
      "cell_type": "code",
      "metadata": {
        "id": "5U8ljOolTWrx",
        "colab_type": "code",
        "colab": {
          "base_uri": "https://localhost:8080/",
          "height": 233
        },
        "outputId": "c627f531-9bd1-43b8-ffd1-2a5a8856a7d0"
      },
      "source": [
        "print(100)\n",
        "print(100+200)\n",
        "print('100+200')\n",
        "print(100,200)\n",
        "print('100','200')\n",
        "print('100''200')\n",
        "print('Hello Python!')\n",
        "print('Hello','Python','!')\n",
        "print('Hello'+'Python'+'!')\n",
        "print('Hello''Python''!')\n",
        "print('**********')\n",
        "print('*'*10)"
      ],
      "execution_count": 7,
      "outputs": [
        {
          "output_type": "stream",
          "text": [
            "100\n",
            "300\n",
            "100+200\n",
            "100 200\n",
            "100 200\n",
            "100200\n",
            "Hello Python!\n",
            "Hello Python !\n",
            "HelloPython!\n",
            "HelloPython!\n",
            "**********\n",
            "**********\n"
          ],
          "name": "stdout"
        }
      ]
    },
    {
      "cell_type": "code",
      "metadata": {
        "id": "JHxqmsACTq9p",
        "colab_type": "code",
        "colab": {
          "base_uri": "https://localhost:8080/",
          "height": 172
        },
        "outputId": "ee451621-4bfa-49fd-bf56-091f1890c64d"
      },
      "source": [
        "Print('Hello Python!')            #출력함수문 print를 정해진 함수문이 아닌 대문자 P로 시작하였다. "
      ],
      "execution_count": 22,
      "outputs": [
        {
          "output_type": "error",
          "ename": "NameError",
          "evalue": "ignored",
          "traceback": [
            "\u001b[0;31m---------------------------------------------------------------------------\u001b[0m",
            "\u001b[0;31mNameError\u001b[0m                                 Traceback (most recent call last)",
            "\u001b[0;32m<ipython-input-22-cabd7e0601ea>\u001b[0m in \u001b[0;36m<module>\u001b[0;34m()\u001b[0m\n\u001b[0;32m----> 1\u001b[0;31m \u001b[0mPrint\u001b[0m\u001b[0;34m(\u001b[0m\u001b[0;34m'Hello Python!'\u001b[0m\u001b[0;34m)\u001b[0m            \u001b[0;31m#출력함수문 print를 정해진 함수문이 아닌 대문자 P로 시작하였다.\u001b[0m\u001b[0;34m\u001b[0m\u001b[0;34m\u001b[0m\u001b[0m\n\u001b[0m",
            "\u001b[0;31mNameError\u001b[0m: name 'Print' is not defined"
          ]
        }
      ]
    },
    {
      "cell_type": "code",
      "metadata": {
        "id": "yODPOSudRfth",
        "colab_type": "code",
        "colab": {
          "base_uri": "https://localhost:8080/",
          "height": 35
        },
        "outputId": "9f5cf107-821a-4637-f57d-554d6ec19d5e"
      },
      "source": [
        "print('Hello Python!')"
      ],
      "execution_count": 23,
      "outputs": [
        {
          "output_type": "stream",
          "text": [
            "Hello Python!\n"
          ],
          "name": "stdout"
        }
      ]
    },
    {
      "cell_type": "code",
      "metadata": {
        "id": "Zkk5gfmWVzKk",
        "colab_type": "code",
        "colab": {
          "base_uri": "https://localhost:8080/",
          "height": 136
        },
        "outputId": "59820da0-7894-43c9-c17f-042d5d3a48fc"
      },
      "source": [
        "print(\"Hello Python!')           # \"가 일치하지 않는 오류가 있다."
      ],
      "execution_count": 14,
      "outputs": [
        {
          "output_type": "error",
          "ename": "SyntaxError",
          "evalue": "ignored",
          "traceback": [
            "\u001b[0;36m  File \u001b[0;32m\"<ipython-input-14-6d0b8e75e77b>\"\u001b[0;36m, line \u001b[0;32m1\u001b[0m\n\u001b[0;31m    print(\"Hello Python!')           # \"가 일치하지 않는 오류가 있다.\u001b[0m\n\u001b[0m                                        ^\u001b[0m\n\u001b[0;31mSyntaxError\u001b[0m\u001b[0;31m:\u001b[0m invalid syntax\n"
          ]
        }
      ]
    },
    {
      "cell_type": "code",
      "metadata": {
        "id": "g2TruAC2Xlrx",
        "colab_type": "code",
        "colab": {
          "base_uri": "https://localhost:8080/",
          "height": 35
        },
        "outputId": "4ffac801-b0d2-4021-ccc4-ab6c974f0f0f"
      },
      "source": [
        "print('Hello Python!')"
      ],
      "execution_count": 15,
      "outputs": [
        {
          "output_type": "stream",
          "text": [
            "Hello Python!\n"
          ],
          "name": "stdout"
        }
      ]
    },
    {
      "cell_type": "code",
      "metadata": {
        "id": "xV8kYizmYe3i",
        "colab_type": "code",
        "colab": {
          "base_uri": "https://localhost:8080/",
          "height": 136
        },
        "outputId": "6292f71d-a633-4e5a-a32d-4394fbda74ea"
      },
      "source": [
        "print(Hello Python!)        # 문자를 출력할 때 ''가 있어야한다."
      ],
      "execution_count": 18,
      "outputs": [
        {
          "output_type": "error",
          "ename": "SyntaxError",
          "evalue": "ignored",
          "traceback": [
            "\u001b[0;36m  File \u001b[0;32m\"<ipython-input-18-469597c821d5>\"\u001b[0;36m, line \u001b[0;32m1\u001b[0m\n\u001b[0;31m    print(Hello Python!)        # 문자를 출력할 때 ''가 있어야한다.\u001b[0m\n\u001b[0m                     ^\u001b[0m\n\u001b[0;31mSyntaxError\u001b[0m\u001b[0;31m:\u001b[0m invalid syntax\n"
          ]
        }
      ]
    },
    {
      "cell_type": "code",
      "metadata": {
        "id": "3RGgum5RYrTH",
        "colab_type": "code",
        "colab": {
          "base_uri": "https://localhost:8080/",
          "height": 35
        },
        "outputId": "0e788505-f648-45f1-f1f9-e0921ddecd95"
      },
      "source": [
        "print('Hello Python!')"
      ],
      "execution_count": 19,
      "outputs": [
        {
          "output_type": "stream",
          "text": [
            "Hello Python!\n"
          ],
          "name": "stdout"
        }
      ]
    },
    {
      "cell_type": "code",
      "metadata": {
        "id": "xOss8phYZI9e",
        "colab_type": "code",
        "colab": {
          "base_uri": "https://localhost:8080/",
          "height": 172
        },
        "outputId": "8a17ebb8-0f3f-4d23-a99d-51ba5b817d67"
      },
      "source": [
        "print(100+'200')        # 숫자 자체를 출력하려면 ''가 있어야 하고, 계산값을 출력하려면 ''가 필요없다.(''부호가 일치해야한다.)"
      ],
      "execution_count": 21,
      "outputs": [
        {
          "output_type": "error",
          "ename": "TypeError",
          "evalue": "ignored",
          "traceback": [
            "\u001b[0;31m---------------------------------------------------------------------------\u001b[0m",
            "\u001b[0;31mTypeError\u001b[0m                                 Traceback (most recent call last)",
            "\u001b[0;32m<ipython-input-21-483306d7a53b>\u001b[0m in \u001b[0;36m<module>\u001b[0;34m()\u001b[0m\n\u001b[0;32m----> 1\u001b[0;31m \u001b[0mprint\u001b[0m\u001b[0;34m(\u001b[0m\u001b[0;36m100\u001b[0m\u001b[0;34m+\u001b[0m\u001b[0;34m'200'\u001b[0m\u001b[0;34m)\u001b[0m        \u001b[0;31m# 숫자 자체를 출력하려면 ''가 있어야 하고, 계산값을 출력하려면 ''가 필요없다.(''문장부호가 일치해야한다.)\u001b[0m\u001b[0;34m\u001b[0m\u001b[0;34m\u001b[0m\u001b[0m\n\u001b[0m",
            "\u001b[0;31mTypeError\u001b[0m: unsupported operand type(s) for +: 'int' and 'str'"
          ]
        }
      ]
    },
    {
      "cell_type": "code",
      "metadata": {
        "id": "ZvE3hKi8ZTyp",
        "colab_type": "code",
        "colab": {
          "base_uri": "https://localhost:8080/",
          "height": 35
        },
        "outputId": "1125bccd-d007-4c20-ccfe-21925b78c96b"
      },
      "source": [
        "print(100+200)"
      ],
      "execution_count": 22,
      "outputs": [
        {
          "output_type": "stream",
          "text": [
            "300\n"
          ],
          "name": "stdout"
        }
      ]
    },
    {
      "cell_type": "code",
      "metadata": {
        "id": "gBAaRODxZ0X1",
        "colab_type": "code",
        "colab": {
          "base_uri": "https://localhost:8080/",
          "height": 107
        },
        "outputId": "a050251d-4da2-49e0-e302-7da56507b57d"
      },
      "source": [
        "print('************************************')\n",
        "print('안녕하세요~')\n",
        "print('저는 한혜림입니다.')\n",
        "print('숭실대학교 IT융합전공 1학년입니다')\n",
        "print('************************************')"
      ],
      "execution_count": 23,
      "outputs": [
        {
          "output_type": "stream",
          "text": [
            "************************************\n",
            "안녕하세요~\n",
            "저는 한혜림입니다.\n",
            "숭실대학교 IT융합전공 1학년입니다\n",
            "************************************\n"
          ],
          "name": "stdout"
        }
      ]
    },
    {
      "cell_type": "code",
      "metadata": {
        "id": "uYJCxjrFaqRQ",
        "colab_type": "code",
        "colab": {
          "base_uri": "https://localhost:8080/",
          "height": 89
        },
        "outputId": "c4e256ff-73aa-4367-fb8c-b443122e52cd"
      },
      "source": [
        "print('   *')\n",
        "print('  ***')\n",
        "print(' *****')\n",
        "print('*******')"
      ],
      "execution_count": 28,
      "outputs": [
        {
          "output_type": "stream",
          "text": [
            "   *\n",
            "  ***\n",
            " *****\n",
            "*******\n"
          ],
          "name": "stdout"
        }
      ]
    },
    {
      "cell_type": "code",
      "metadata": {
        "id": "nBm0m9vJc5bN",
        "colab_type": "code",
        "colab": {
          "base_uri": "https://localhost:8080/",
          "height": 89
        },
        "outputId": "158fd98e-fed6-4ee6-bea8-34d2db5a698d"
      },
      "source": [
        "print('*******')\n",
        "print(' *****')\n",
        "print('  ***')\n",
        "print('   *')"
      ],
      "execution_count": 29,
      "outputs": [
        {
          "output_type": "stream",
          "text": [
            "*******\n",
            " *****\n",
            "  ***\n",
            "   *\n"
          ],
          "name": "stdout"
        }
      ]
    },
    {
      "cell_type": "code",
      "metadata": {
        "id": "fyzmW8TLdND8",
        "colab_type": "code",
        "colab": {
          "base_uri": "https://localhost:8080/",
          "height": 161
        },
        "outputId": "c349ea94-c87d-4dff-869d-2422d4bd6ccd"
      },
      "source": [
        "print(400-200)\n",
        "print(45*89)\n",
        "print(32/8)\n",
        "print(9*3)\n",
        "print(9**3)\n",
        "print(9/3)\n",
        "print(9//3)\n",
        "print(9%3)"
      ],
      "execution_count": 31,
      "outputs": [
        {
          "output_type": "stream",
          "text": [
            "200\n",
            "4005\n",
            "4.0\n",
            "27\n",
            "729\n",
            "3.0\n",
            "3\n",
            "0\n"
          ],
          "name": "stdout"
        }
      ]
    },
    {
      "cell_type": "code",
      "metadata": {
        "id": "4fGRmomAdr0s",
        "colab_type": "code",
        "colab": {
          "base_uri": "https://localhost:8080/",
          "height": 125
        },
        "outputId": "a1a89463-f164-42f0-eddf-ee30b3520a9f"
      },
      "source": [
        "print(1+2+3+4+5+6+7+8+9+10)\n",
        "print(2*3.14*5)\n",
        "print(25*4)\n",
        "print(25*25)\n",
        "print(2*(10+30))\n",
        "print(10*30)"
      ],
      "execution_count": 34,
      "outputs": [
        {
          "output_type": "stream",
          "text": [
            "55\n",
            "31.400000000000002\n",
            "100\n",
            "625\n",
            "80\n",
            "300\n"
          ],
          "name": "stdout"
        }
      ]
    },
    {
      "cell_type": "code",
      "metadata": {
        "id": "dJ_uixOie1v6",
        "colab_type": "code",
        "colab": {
          "base_uri": "https://localhost:8080/",
          "height": 35
        },
        "outputId": "41b11b72-52ce-48e9-a35d-c64500a00cac"
      },
      "source": [
        "print(80*1.5,'km')"
      ],
      "execution_count": 38,
      "outputs": [
        {
          "output_type": "stream",
          "text": [
            "120.0 km\n"
          ],
          "name": "stdout"
        }
      ]
    },
    {
      "cell_type": "code",
      "metadata": {
        "id": "kIT0lwCbf3Pl",
        "colab_type": "code",
        "colab": {
          "base_uri": "https://localhost:8080/",
          "height": 35
        },
        "outputId": "529ed696-9947-4e79-a3e4-0ece983318c2"
      },
      "source": [
        "print(190/2,'km/h')"
      ],
      "execution_count": 39,
      "outputs": [
        {
          "output_type": "stream",
          "text": [
            "95.0 km/h\n"
          ],
          "name": "stdout"
        }
      ]
    },
    {
      "cell_type": "code",
      "metadata": {
        "id": "c85bXun0hWt1",
        "colab_type": "code",
        "colab": {
          "base_uri": "https://localhost:8080/",
          "height": 35
        },
        "outputId": "4bf4cd01-c592-4b70-d669-7a497141a9ae"
      },
      "source": [
        "print(149597870/299792,'초')"
      ],
      "execution_count": 7,
      "outputs": [
        {
          "output_type": "stream",
          "text": [
            "499.00554384373163 초\n"
          ],
          "name": "stdout"
        }
      ]
    },
    {
      "cell_type": "code",
      "metadata": {
        "id": "K8a6gjryM9Qv",
        "colab_type": "code",
        "colab": {
          "base_uri": "https://localhost:8080/",
          "height": 35
        },
        "outputId": "1dc231c4-e807-45e4-cbbc-551993ad7ec7"
      },
      "source": [
        "print(499.00554384373163/60,'분')"
      ],
      "execution_count": 5,
      "outputs": [
        {
          "output_type": "stream",
          "text": [
            "8.316759064062193 분\n"
          ],
          "name": "stdout"
        }
      ]
    },
    {
      "cell_type": "code",
      "metadata": {
        "id": "h2K9JD_zNYXM",
        "colab_type": "code",
        "colab": {
          "base_uri": "https://localhost:8080/",
          "height": 89
        },
        "outputId": "a2f2b314-2ac5-43bf-95c9-bd1f8cb3646c"
      },
      "source": [
        "print(3*2*1)\n",
        "print(5*4*3*2*1)\n",
        "print(12*11*10*9*8*7*6*5*4*3*2*1)\n",
        "print(20*19*18*17*16*15*14*13*12*11*10*9*8*7*6*5*4*3*2*1)"
      ],
      "execution_count": 11,
      "outputs": [
        {
          "output_type": "stream",
          "text": [
            "6\n",
            "120\n",
            "479001600\n",
            "2432902008176640000\n"
          ],
          "name": "stdout"
        }
      ]
    },
    {
      "cell_type": "code",
      "metadata": {
        "id": "YSCX8eB3OJse",
        "colab_type": "code",
        "colab": {
          "base_uri": "https://localhost:8080/",
          "height": 35
        },
        "outputId": "7a5a39c6-d1eb-4c3c-c99f-e6e2d94acb60"
      },
      "source": [
        "print((100+200)/2)"
      ],
      "execution_count": 12,
      "outputs": [
        {
          "output_type": "stream",
          "text": [
            "150.0\n"
          ],
          "name": "stdout"
        }
      ]
    },
    {
      "cell_type": "code",
      "metadata": {
        "id": "w-6iG5vkOrmU",
        "colab_type": "code",
        "colab": {
          "base_uri": "https://localhost:8080/",
          "height": 89
        },
        "outputId": "ba0ce0e6-fe03-49f3-d479-d596b974eb6d"
      },
      "source": [
        "print('50+30=',50+30)\n",
        "print('50-30=',50-30)\n",
        "print('50*30=',50*30)\n",
        "print('50/30=',50/30)"
      ],
      "execution_count": 16,
      "outputs": [
        {
          "output_type": "stream",
          "text": [
            "50+30= 80\n",
            "50-30= 20\n",
            "50*30= 1500\n",
            "50/30= 1.6666666666666667\n"
          ],
          "name": "stdout"
        }
      ]
    },
    {
      "cell_type": "code",
      "metadata": {
        "id": "8BqRcgo4O40e",
        "colab_type": "code",
        "colab": {
          "base_uri": "https://localhost:8080/",
          "height": 89
        },
        "outputId": "763bf3f8-24fd-417e-e52a-dc8ea6476fdc"
      },
      "source": [
        "print('4+5=',4+5)\n",
        "print('4-5=',4-5)\n",
        "print('4*5=',4*5)\n",
        "print('4/5=',4/5)"
      ],
      "execution_count": 17,
      "outputs": [
        {
          "output_type": "stream",
          "text": [
            "4+5= 9\n",
            "4-5= -1\n",
            "4*5= 20\n",
            "4/5= 0.8\n"
          ],
          "name": "stdout"
        }
      ]
    },
    {
      "cell_type": "code",
      "metadata": {
        "id": "7Tlx8_13PZ7X",
        "colab_type": "code",
        "colab": {
          "base_uri": "https://localhost:8080/",
          "height": 89
        },
        "outputId": "e0854a35-b64e-4101-b8ae-ba7cf8e1cd04"
      },
      "source": [
        "print('10+20=',10+20)\n",
        "print('10-20=',10-20)\n",
        "print('10*20=',10*20)\n",
        "print('10/20=',10/20)"
      ],
      "execution_count": 18,
      "outputs": [
        {
          "output_type": "stream",
          "text": [
            "10+20= 30\n",
            "10-20= -10\n",
            "10*20= 200\n",
            "10/20= 0.5\n"
          ],
          "name": "stdout"
        }
      ]
    },
    {
      "cell_type": "code",
      "metadata": {
        "id": "0VuizBhjPmo0",
        "colab_type": "code",
        "colab": {
          "base_uri": "https://localhost:8080/",
          "height": 89
        },
        "outputId": "1c62a420-560b-49e8-ce0e-78192ed3e41e"
      },
      "source": [
        "print('6000+3000=',6000+3000)\n",
        "print('6000-3000=',6000-3000)\n",
        "print('6000*3000=',6000*3000)\n",
        "print('6000/3000=',6000/3000)"
      ],
      "execution_count": 19,
      "outputs": [
        {
          "output_type": "stream",
          "text": [
            "6000+3000= 9000\n",
            "6000-3000= 3000\n",
            "6000*3000= 18000000\n",
            "6000/3000= 2.0\n"
          ],
          "name": "stdout"
        }
      ]
    },
    {
      "cell_type": "code",
      "metadata": {
        "id": "uvP0Wn4GP3uZ",
        "colab_type": "code",
        "colab": {
          "base_uri": "https://localhost:8080/",
          "height": 89
        },
        "outputId": "9c9636cf-6781-42e6-9fe1-a342e455b2fe"
      },
      "source": [
        "print('60000000+50000000=',60000000+50000000)\n",
        "print('60000000-50000000=',60000000-50000000)\n",
        "print('60000000*50000000=',60000000*50000000)\n",
        "print('60000000/50000000=',60000000/50000000)"
      ],
      "execution_count": 20,
      "outputs": [
        {
          "output_type": "stream",
          "text": [
            "60000000+50000000= 110000000\n",
            "60000000-50000000= 10000000\n",
            "60000000*50000000= 3000000000000000\n",
            "60000000/50000000= 1.2\n"
          ],
          "name": "stdout"
        }
      ]
    },
    {
      "cell_type": "code",
      "metadata": {
        "id": "73dVwEi6QOQV",
        "colab_type": "code",
        "colab": {}
      },
      "source": [
        ""
      ],
      "execution_count": null,
      "outputs": []
    }
  ]
}